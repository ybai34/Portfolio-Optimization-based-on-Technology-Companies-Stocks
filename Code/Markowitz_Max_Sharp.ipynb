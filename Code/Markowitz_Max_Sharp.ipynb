{
 "cells": [
  {
   "cell_type": "code",
   "execution_count": 10,
   "id": "3060adf5",
   "metadata": {},
   "outputs": [
    {
     "data": {
      "text/html": [
       "<div>\n",
       "<style scoped>\n",
       "    .dataframe tbody tr th:only-of-type {\n",
       "        vertical-align: middle;\n",
       "    }\n",
       "\n",
       "    .dataframe tbody tr th {\n",
       "        vertical-align: top;\n",
       "    }\n",
       "\n",
       "    .dataframe thead th {\n",
       "        text-align: right;\n",
       "    }\n",
       "</style>\n",
       "<table border=\"1\" class=\"dataframe\">\n",
       "  <thead>\n",
       "    <tr style=\"text-align: right;\">\n",
       "      <th></th>\n",
       "      <th>Company</th>\n",
       "      <th>Date</th>\n",
       "      <th>Close/Last</th>\n",
       "      <th>Volume</th>\n",
       "      <th>Open</th>\n",
       "      <th>High</th>\n",
       "      <th>Low</th>\n",
       "    </tr>\n",
       "  </thead>\n",
       "  <tbody>\n",
       "    <tr>\n",
       "      <th>0</th>\n",
       "      <td>AAPL</td>\n",
       "      <td>07/17/2023</td>\n",
       "      <td>$193.99</td>\n",
       "      <td>50520160</td>\n",
       "      <td>$191.90</td>\n",
       "      <td>$194.32</td>\n",
       "      <td>$191.81</td>\n",
       "    </tr>\n",
       "    <tr>\n",
       "      <th>1</th>\n",
       "      <td>AAPL</td>\n",
       "      <td>07/14/2023</td>\n",
       "      <td>$190.69</td>\n",
       "      <td>41616240</td>\n",
       "      <td>$190.23</td>\n",
       "      <td>$191.1799</td>\n",
       "      <td>$189.63</td>\n",
       "    </tr>\n",
       "    <tr>\n",
       "      <th>2</th>\n",
       "      <td>AAPL</td>\n",
       "      <td>07/13/2023</td>\n",
       "      <td>$190.54</td>\n",
       "      <td>41342340</td>\n",
       "      <td>$190.50</td>\n",
       "      <td>$191.19</td>\n",
       "      <td>$189.78</td>\n",
       "    </tr>\n",
       "    <tr>\n",
       "      <th>3</th>\n",
       "      <td>AAPL</td>\n",
       "      <td>07-12-2023</td>\n",
       "      <td>$189.77</td>\n",
       "      <td>60750250</td>\n",
       "      <td>$189.68</td>\n",
       "      <td>$191.70</td>\n",
       "      <td>$188.47</td>\n",
       "    </tr>\n",
       "    <tr>\n",
       "      <th>4</th>\n",
       "      <td>AAPL</td>\n",
       "      <td>07-11-2023</td>\n",
       "      <td>$188.08</td>\n",
       "      <td>46638120</td>\n",
       "      <td>$189.16</td>\n",
       "      <td>$189.30</td>\n",
       "      <td>$186.60</td>\n",
       "    </tr>\n",
       "  </tbody>\n",
       "</table>\n",
       "</div>"
      ],
      "text/plain": [
       "  Company        Date Close/Last    Volume     Open       High      Low\n",
       "0    AAPL  07/17/2023    $193.99  50520160  $191.90    $194.32  $191.81\n",
       "1    AAPL  07/14/2023    $190.69  41616240  $190.23  $191.1799  $189.63\n",
       "2    AAPL  07/13/2023    $190.54  41342340  $190.50    $191.19  $189.78\n",
       "3    AAPL  07-12-2023    $189.77  60750250  $189.68    $191.70  $188.47\n",
       "4    AAPL  07-11-2023    $188.08  46638120  $189.16    $189.30  $186.60"
      ]
     },
     "execution_count": 10,
     "metadata": {},
     "output_type": "execute_result"
    }
   ],
   "source": [
    "import pandas as pd\n",
    "import numpy as np\n",
    "# Load the data from the uploaded CSV file\n",
    "file_path = r'C:\\Users\\jianbai\\Desktop\\protfolio\\data.csv'\n",
    "data = pd.read_csv(file_path)\n",
    "\n",
    "# Display the first few rows of the dataframe to understand its structure\n",
    "data.head()\n"
   ]
  },
  {
   "cell_type": "code",
   "execution_count": 11,
   "id": "496a7638",
   "metadata": {},
   "outputs": [
    {
     "data": {
      "text/plain": [
       "({'Data Shape': (25160, 7),\n",
       "  'Data Types': Company       object\n",
       "  Date          object\n",
       "  Close/Last    object\n",
       "  Volume         int64\n",
       "  Open          object\n",
       "  High          object\n",
       "  Low           object\n",
       "  dtype: object,\n",
       "  'Missing Values': Company       0\n",
       "  Date          0\n",
       "  Close/Last    0\n",
       "  Volume        0\n",
       "  Open          0\n",
       "  High          0\n",
       "  Low           0\n",
       "  dtype: int64},\n",
       "        Company        Date Close/Last        Volume    Open   High    Low\n",
       " count    25160       25160      25160  2.516000e+04   25160  25160  25160\n",
       " unique      10        2516      18720           NaN   18354  19066  19087\n",
       " top       AAPL  07/17/2023      $3.69           NaN  $52.00  $3.75  $2.65\n",
       " freq      2516          10         14           NaN      12     11     11\n",
       " mean       NaN         NaN        NaN  5.131764e+07     NaN    NaN    NaN\n",
       " std        NaN         NaN        NaN  6.399143e+07     NaN    NaN    NaN\n",
       " min        NaN         NaN        NaN  1.143952e+06     NaN    NaN    NaN\n",
       " 25%        NaN         NaN        NaN  1.200394e+07     NaN    NaN    NaN\n",
       " 50%        NaN         NaN        NaN  2.672083e+07     NaN    NaN    NaN\n",
       " 75%        NaN         NaN        NaN  6.857269e+07     NaN    NaN    NaN\n",
       " max        NaN         NaN        NaN  1.065209e+09     NaN    NaN    NaN)"
      ]
     },
     "execution_count": 11,
     "metadata": {},
     "output_type": "execute_result"
    }
   ],
   "source": [
    "# Data overview: size, types, and missing values\n",
    "data_overview = {\n",
    "    \"Data Shape\": data.shape,\n",
    "    \"Data Types\": data.dtypes,\n",
    "    \"Missing Values\": data.isnull().sum()\n",
    "}\n",
    "\n",
    "# Descriptive statistics\n",
    "descriptive_stats = data.describe(include='all')\n",
    "\n",
    "data_overview, descriptive_stats\n"
   ]
  },
  {
   "cell_type": "code",
   "execution_count": null,
   "id": "42995874",
   "metadata": {},
   "outputs": [
    {
     "name": "stderr",
     "output_type": "stream",
     "text": [
      "D:\\anaconda3\\Lib\\site-packages\\seaborn\\_oldcore.py:1498: FutureWarning: is_categorical_dtype is deprecated and will be removed in a future version. Use isinstance(dtype, CategoricalDtype) instead\n",
      "  if pd.api.types.is_categorical_dtype(vector):\n",
      "D:\\anaconda3\\Lib\\site-packages\\seaborn\\_oldcore.py:1498: FutureWarning: is_categorical_dtype is deprecated and will be removed in a future version. Use isinstance(dtype, CategoricalDtype) instead\n",
      "  if pd.api.types.is_categorical_dtype(vector):\n",
      "D:\\anaconda3\\Lib\\site-packages\\seaborn\\_oldcore.py:1498: FutureWarning: is_categorical_dtype is deprecated and will be removed in a future version. Use isinstance(dtype, CategoricalDtype) instead\n",
      "  if pd.api.types.is_categorical_dtype(vector):\n",
      "D:\\anaconda3\\Lib\\site-packages\\seaborn\\_oldcore.py:1119: FutureWarning: use_inf_as_na option is deprecated and will be removed in a future version. Convert inf values to NaN before operating instead.\n",
      "  with pd.option_context('mode.use_inf_as_na', True):\n",
      "D:\\anaconda3\\Lib\\site-packages\\seaborn\\_oldcore.py:1119: FutureWarning: use_inf_as_na option is deprecated and will be removed in a future version. Convert inf values to NaN before operating instead.\n",
      "  with pd.option_context('mode.use_inf_as_na', True):\n"
     ]
    }
   ],
   "source": [
    "import matplotlib.pyplot as plt\n",
    "import seaborn as sns\n",
    "\n",
    "# Convert 'Date' to datetime and filter data for AAPL\n",
    "data['Date'] = pd.to_datetime(data['Date'], errors='coerce')\n",
    "aapl_data = data[data['Company'] == 'AAPL'].sort_values(by='Date')\n",
    "\n",
    "# Plotting AAPL's closing price over time\n",
    "plt.figure(figsize=(12, 6))\n",
    "sns.lineplot(x='Date', y='Close/Last', data=aapl_data)\n",
    "plt.title('AAPL Closing Price Over Time')\n",
    "plt.xlabel('Date')\n",
    "plt.ylabel('Closing Price (USD)')\n",
    "plt.show()\n",
    "\n",
    "\n"
   ]
  },
  {
   "cell_type": "code",
   "execution_count": 11,
   "id": "e640b60b",
   "metadata": {},
   "outputs": [
    {
     "name": "stderr",
     "output_type": "stream",
     "text": [
      "D:\\anaconda3\\Lib\\site-packages\\seaborn\\_oldcore.py:1498: FutureWarning: is_categorical_dtype is deprecated and will be removed in a future version. Use isinstance(dtype, CategoricalDtype) instead\n",
      "  if pd.api.types.is_categorical_dtype(vector):\n",
      "D:\\anaconda3\\Lib\\site-packages\\seaborn\\_oldcore.py:1498: FutureWarning: is_categorical_dtype is deprecated and will be removed in a future version. Use isinstance(dtype, CategoricalDtype) instead\n",
      "  if pd.api.types.is_categorical_dtype(vector):\n",
      "D:\\anaconda3\\Lib\\site-packages\\seaborn\\_oldcore.py:1498: FutureWarning: is_categorical_dtype is deprecated and will be removed in a future version. Use isinstance(dtype, CategoricalDtype) instead\n",
      "  if pd.api.types.is_categorical_dtype(vector):\n"
     ]
    },
    {
     "data": {
      "image/png": "[encoded data removed]",
      "text/plain": [
       "<Figure size 1500x800 with 1 Axes>"
      ]
     },
     "metadata": {},
     "output_type": "display_data"
    }
   ],
   "source": [
    "# Plotting boxplots for 'Close/Last' for each company\n",
    "plt.figure(figsize=(15, 8))\n",
    "sns.boxplot(x='Company', y='Close/Last', data=data)\n",
    "plt.title('Boxplot of Closing Prices for Different Companies')\n",
    "plt.xlabel('Company')\n",
    "plt.ylabel('Closing Price (USD)')\n",
    "plt.xticks(rotation=45)\n",
    "plt.show()\n"
   ]
  },
  {
   "cell_type": "code",
   "execution_count": 2,
   "id": "6cd9b1d6",
   "metadata": {
    "scrolled": true
   },
   "outputs": [
    {
     "data": {
      "text/html": [
       "<div>\n",
       "<style scoped>\n",
       "    .dataframe tbody tr th:only-of-type {\n",
       "        vertical-align: middle;\n",
       "    }\n",
       "\n",
       "    .dataframe tbody tr th {\n",
       "        vertical-align: top;\n",
       "    }\n",
       "\n",
       "    .dataframe thead th {\n",
       "        text-align: right;\n",
       "    }\n",
       "</style>\n",
       "<table border=\"1\" class=\"dataframe\">\n",
       "  <thead>\n",
       "    <tr style=\"text-align: right;\">\n",
       "      <th>Company</th>\n",
       "      <th>AAPL</th>\n",
       "      <th>AMD</th>\n",
       "      <th>AMZN</th>\n",
       "      <th>CSCO</th>\n",
       "      <th>META</th>\n",
       "      <th>MSFT</th>\n",
       "      <th>NFLX</th>\n",
       "      <th>QCOM</th>\n",
       "      <th>SBUX</th>\n",
       "      <th>TSLA</th>\n",
       "    </tr>\n",
       "    <tr>\n",
       "      <th>Date</th>\n",
       "      <th></th>\n",
       "      <th></th>\n",
       "      <th></th>\n",
       "      <th></th>\n",
       "      <th></th>\n",
       "      <th></th>\n",
       "      <th></th>\n",
       "      <th></th>\n",
       "      <th></th>\n",
       "      <th></th>\n",
       "    </tr>\n",
       "  </thead>\n",
       "  <tbody>\n",
       "    <tr>\n",
       "      <th>01-02-2015</th>\n",
       "      <td>0.383595</td>\n",
       "      <td>-0.318987</td>\n",
       "      <td>-0.224766</td>\n",
       "      <td>0.255000</td>\n",
       "      <td>0.433924</td>\n",
       "      <td>0.258342</td>\n",
       "      <td>-0.038255</td>\n",
       "      <td>0.013093</td>\n",
       "      <td>0.055332</td>\n",
       "      <td>0.461091</td>\n",
       "    </tr>\n",
       "    <tr>\n",
       "      <th>01-02-2018</th>\n",
       "      <td>0.575597</td>\n",
       "      <td>3.081784</td>\n",
       "      <td>2.853915</td>\n",
       "      <td>0.407461</td>\n",
       "      <td>1.312556</td>\n",
       "      <td>0.838109</td>\n",
       "      <td>3.033614</td>\n",
       "      <td>-0.122240</td>\n",
       "      <td>0.415275</td>\n",
       "      <td>0.461537</td>\n",
       "    </tr>\n",
       "    <tr>\n",
       "      <th>01-02-2019</th>\n",
       "      <td>-0.083246</td>\n",
       "      <td>0.714936</td>\n",
       "      <td>0.294463</td>\n",
       "      <td>0.105250</td>\n",
       "      <td>-0.252122</td>\n",
       "      <td>0.176498</td>\n",
       "      <td>0.331178</td>\n",
       "      <td>-0.119632</td>\n",
       "      <td>0.116085</td>\n",
       "      <td>-0.032477</td>\n",
       "    </tr>\n",
       "    <tr>\n",
       "      <th>01-02-2020</th>\n",
       "      <td>0.901912</td>\n",
       "      <td>1.607541</td>\n",
       "      <td>0.233171</td>\n",
       "      <td>0.127357</td>\n",
       "      <td>0.546138</td>\n",
       "      <td>0.588410</td>\n",
       "      <td>0.232198</td>\n",
       "      <td>0.545122</td>\n",
       "      <td>0.389148</td>\n",
       "      <td>0.387396</td>\n",
       "    </tr>\n",
       "    <tr>\n",
       "      <th>01-03-2014</th>\n",
       "      <td>-0.742691</td>\n",
       "      <td>-0.918534</td>\n",
       "      <td>-0.791129</td>\n",
       "      <td>-0.546055</td>\n",
       "      <td>-0.739932</td>\n",
       "      <td>-0.770203</td>\n",
       "      <td>-0.842723</td>\n",
       "      <td>-0.178149</td>\n",
       "      <td>-0.569390</td>\n",
       "      <td>-0.652395</td>\n",
       "    </tr>\n",
       "  </tbody>\n",
       "</table>\n",
       "</div>"
      ],
      "text/plain": [
       "Company         AAPL       AMD      AMZN      CSCO      META      MSFT  \\\n",
       "Date                                                                     \n",
       "01-02-2015  0.383595 -0.318987 -0.224766  0.255000  0.433924  0.258342   \n",
       "01-02-2018  0.575597  3.081784  2.853915  0.407461  1.312556  0.838109   \n",
       "01-02-2019 -0.083246  0.714936  0.294463  0.105250 -0.252122  0.176498   \n",
       "01-02-2020  0.901912  1.607541  0.233171  0.127357  0.546138  0.588410   \n",
       "01-03-2014 -0.742691 -0.918534 -0.791129 -0.546055 -0.739932 -0.770203   \n",
       "\n",
       "Company         NFLX      QCOM      SBUX      TSLA  \n",
       "Date                                                \n",
       "01-02-2015 -0.038255  0.013093  0.055332  0.461091  \n",
       "01-02-2018  3.033614 -0.122240  0.415275  0.461537  \n",
       "01-02-2019  0.331178 -0.119632  0.116085 -0.032477  \n",
       "01-02-2020  0.232198  0.545122  0.389148  0.387396  \n",
       "01-03-2014 -0.842723 -0.178149 -0.569390 -0.652395  "
      ]
     },
     "execution_count": 2,
     "metadata": {},
     "output_type": "execute_result"
    }
   ],
   "source": [
    "import numpy as np\n",
    "\n",
    "# Convert the 'Close/Last' column to numerical values\n",
    "data['Close/Last'] = data['Close/Last'].str.replace('$', '').astype(float)\n",
    "\n",
    "# Pivot the data to have dates as rows and companies as columns\n",
    "pivoted_data = data.pivot(index='Date', columns='Company', values='Close/Last')\n",
    "\n",
    "# Calculate daily returns\n",
    "daily_returns = pivoted_data.pct_change().dropna()\n",
    "\n",
    "# Display the first few rows of daily returns\n",
    "daily_returns.head()\n"
   ]
  },
  {
   "cell_type": "code",
   "execution_count": 3,
   "id": "dba91583",
   "metadata": {},
   "outputs": [
    {
     "data": {
      "text/plain": [
       "(Company\n",
       " AAPL    0.275389\n",
       " AMD     0.975544\n",
       " AMZN    0.295541\n",
       " CSCO    0.052403\n",
       " META    0.155434\n",
       " MSFT    0.243235\n",
       " NFLX    0.323744\n",
       " QCOM    0.076722\n",
       " SBUX    0.078212\n",
       " TSLA    1.160931\n",
       " dtype: float64,\n",
       " Company      AAPL       AMD      AMZN      CSCO      META      MSFT      NFLX  \\\n",
       " Company                                                                         \n",
       " AAPL     0.461770  0.806491  0.327297  0.115820  0.219608  0.360639  0.312399   \n",
       " AMD      0.806491  4.816837  1.148237  0.373000  0.528617  0.901455  1.093794   \n",
       " AMZN     0.327297  1.148237  0.560108  0.168046  0.291504  0.370070  0.564684   \n",
       " CSCO     0.115820  0.373000  0.168046  0.094233  0.104616  0.137879  0.190131   \n",
       " META     0.219608  0.528617  0.291504  0.104616  0.259987  0.223135  0.316447   \n",
       " MSFT     0.360639  0.901455  0.370070  0.137879  0.223135  0.352990  0.374136   \n",
       " NFLX     0.312399  1.093794  0.564684  0.190131  0.316447  0.374136  0.687086   \n",
       " QCOM     0.243124  0.432740  0.144124  0.051671  0.098188  0.185242  0.108495   \n",
       " SBUX     0.150547  0.248508  0.163733  0.073140  0.127862  0.148708  0.170077   \n",
       " TSLA     1.652301  2.012384  0.744346  0.068229  0.494322  1.024851  0.466640   \n",
       " \n",
       " Company      QCOM      SBUX       TSLA  \n",
       " Company                                 \n",
       " AAPL     0.243124  0.150547   1.652301  \n",
       " AMD      0.432740  0.248508   2.012384  \n",
       " AMZN     0.144124  0.163733   0.744346  \n",
       " CSCO     0.051671  0.073140   0.068229  \n",
       " META     0.098188  0.127862   0.494322  \n",
       " MSFT     0.185242  0.148708   1.024851  \n",
       " NFLX     0.108495  0.170077   0.466640  \n",
       " QCOM     0.182953  0.077735   1.015462  \n",
       " SBUX     0.077735  0.133495   0.314819  \n",
       " TSLA     1.015462  0.314819  10.604001  )"
      ]
     },
     "execution_count": 3,
     "metadata": {},
     "output_type": "execute_result"
    }
   ],
   "source": [
    "# Calculate average daily returns (expected returns)\n",
    "expected_returns = daily_returns.mean()\n",
    "\n",
    "# Calculate the covariance matrix\n",
    "cov_matrix = daily_returns.cov()\n",
    "\n",
    "# Displaying the expected returns and covariance matrix\n",
    "expected_returns, cov_matrix\n"
   ]
  },
  {
   "cell_type": "code",
   "execution_count": 33,
   "id": "7a72b6a9",
   "metadata": {},
   "outputs": [
    {
     "name": "stderr",
     "output_type": "stream",
     "text": [
      "C:\\Users\\jianbai\\AppData\\Local\\Temp\\ipykernel_10468\\3448158474.py:10: UserWarning: The argument 'infer_datetime_format' is deprecated and will be removed in a future version. A strict version of it is now the default, see https://pandas.pydata.org/pdeps/0004-consistent-to-datetime-parsing.html. You can safely remove this argument.\n",
      "  data['Date'] = pd.to_datetime(data['Date'], errors='coerce', infer_datetime_format=True)\n"
     ]
    },
    {
     "data": {
      "text/plain": [
       "{'Expected Return': 0.5680416213643099,\n",
       " 'Volatility (Risk)': 0.33778182458337674,\n",
       " 'Sharpe Ratio': 1.6520771123567812,\n",
       " 'Diversification (Weight Distribution)': array([3.17077071e-01, 1.10488593e-01, 6.94431491e-17, 1.90593940e-17,\n",
       "        9.20850461e-02, 2.53049260e-01, 8.22650347e-02, 1.60461922e-17,\n",
       "        0.00000000e+00, 1.45034995e-01])}"
      ]
     },
     "execution_count": 33,
     "metadata": {},
     "output_type": "execute_result"
    }
   ],
   "source": [
    "# importing necessary libraries\n",
    "import pandas as pd\n",
    "import numpy as np\n",
    "from scipy.optimize import minimize\n",
    "\n",
    "# Reload the data\n",
    "data = pd.read_csv(file_path)\n",
    "\n",
    "# Handling the date format and numeric conversion\n",
    "data['Date'] = pd.to_datetime(data['Date'], errors='coerce', infer_datetime_format=True)\n",
    "data = data.dropna(subset=['Date'])\n",
    "data['Close/Last'] = pd.to_numeric(data['Close/Last'].str.replace('$', ''), errors='coerce')\n",
    "\n",
    "# Calculate daily returns\n",
    "data.sort_values(by=['Company', 'Date'], inplace=True)\n",
    "data['Daily Return'] = data.groupby('Company')['Close/Last'].pct_change()\n",
    "\n",
    "# Compute mean daily returns and covariance matrix\n",
    "mean_daily_returns = data.groupby('Company')['Daily Return'].mean()\n",
    "cov_matrix = data.pivot_table(values='Daily Return', index='Date', columns='Company').cov()\n",
    "\n",
    "# Define the number of assets\n",
    "num_assets = len(mean_daily_returns)\n",
    "\n",
    "# Define the function to calculate portfolio performance\n",
    "def portfolio_performance(weights, mean_returns, cov_matrix, risk_free_rate=0.01):\n",
    "    returns = np.sum(mean_returns * weights) * 252\n",
    "    std_dev = np.sqrt(np.dot(weights.T, np.dot(cov_matrix, weights))) * np.sqrt(252)\n",
    "    sharpe_ratio = (returns - risk_free_rate) / std_dev\n",
    "    return returns, std_dev, sharpe_ratio\n",
    "\n",
    "# Objective function for optimization (negative Sharpe Ratio)\n",
    "def min_sharpe_ratio(weights, mean_returns, cov_matrix, risk_free_rate):\n",
    "    return -portfolio_performance(weights, mean_returns, cov_matrix, risk_free_rate)[2]\n",
    "\n",
    "# Constraints and bounds\n",
    "constraints = ({'type': 'eq', 'fun': lambda x: np.sum(x) - 1})\n",
    "bounds = tuple((0, 1) for asset in range(num_assets))\n",
    "\n",
    "# Initial guess and optimization\n",
    "init_guess = num_assets * [1. / num_assets,]\n",
    "optimized = minimize(min_sharpe_ratio, init_guess, args=(mean_daily_returns, cov_matrix, 0.01), method='SLSQP', bounds=bounds, constraints=constraints)\n",
    "\n",
    "# Extract optimized weights and calculate portfolio performance\n",
    "opt_weights = optimized.x\n",
    "opt_return, opt_risk, opt_sharpe_ratio = portfolio_performance(opt_weights, mean_daily_returns, cov_matrix)\n",
    "\n",
    "# Compile portfolio metrics\n",
    "portfolio_metrics = {\n",
    "    \"Expected Return\": opt_return,\n",
    "    \"Volatility (Risk)\": opt_risk,\n",
    "    \"Sharpe Ratio\": opt_sharpe_ratio,\n",
    "    \"Diversification (Weight Distribution)\": opt_weights\n",
    "}\n",
    "\n",
    "\n",
    "portfolio_metrics\n",
    "\n"
   ]
  },
  {
   "cell_type": "code",
   "execution_count": 35,
   "id": "f2ff608c",
   "metadata": {},
   "outputs": [
    {
     "data": {
      "text/plain": [
       "{'AAPL': '31.71%',\n",
       " 'AMD': '11.05%',\n",
       " 'AMZN': '0.00%',\n",
       " 'CSCO': '0.00%',\n",
       " 'META': '9.21%',\n",
       " 'MSFT': '25.30%',\n",
       " 'NFLX': '8.23%',\n",
       " 'QCOM': '0.00%',\n",
       " 'SBUX': '0.00%',\n",
       " 'TSLA': '14.50%'}"
      ]
     },
     "execution_count": 35,
     "metadata": {},
     "output_type": "execute_result"
    }
   ],
   "source": [
    "# Display portfolio diversification\n",
    "portfolio_diversification = {}\n",
    "for i, company_name in enumerate(company_names):\n",
    "    portfolio_diversification[f\"{company_name}\"] = f\"{opt_weights[i]*100:.2f}%\"\n",
    "\n",
    "portfolio_diversification"
   ]
  },
  {
   "cell_type": "code",
   "execution_count": 5,
   "id": "cda1eddc",
   "metadata": {},
   "outputs": [
    {
     "name": "stdout",
     "output_type": "stream",
     "text": [
      "Expected Return: 0.002262\n",
      "Risk (Volatility): 0.010677\n",
      "Sharpe Ratio: 0.2117\n",
      "Diversification: 0.861603\n"
     ]
    }
   ],
   "source": [
    "print(\"Expected Return:\", 0.002262)\n",
    "print(\"Risk (Volatility):\", 0.010677)\n",
    "print(\"Sharpe Ratio:\", 0.2117)\n",
    "print(\"Diversification:\", 0.861603)"
   ]
  },
  {
   "cell_type": "code",
   "execution_count": 6,
   "id": "c3024515",
   "metadata": {},
   "outputs": [
    {
     "ename": "NameError",
     "evalue": "name 'np' is not defined",
     "output_type": "error",
     "traceback": [
      "\u001b[1;31m---------------------------------------------------------------------------\u001b[0m",
      "\u001b[1;31mNameError\u001b[0m                                 Traceback (most recent call last)",
      "Cell \u001b[1;32mIn[6], line 2\u001b[0m\n\u001b[0;32m      1\u001b[0m \u001b[38;5;66;03m# Individual risks (standard deviation) of each stock\u001b[39;00m\n\u001b[1;32m----> 2\u001b[0m individual_risks \u001b[38;5;241m=\u001b[39m np\u001b[38;5;241m.\u001b[39msqrt(np\u001b[38;5;241m.\u001b[39mdiag(cov_matrix))\n\u001b[0;32m      4\u001b[0m \u001b[38;5;66;03m# Weighted average of individual risks\u001b[39;00m\n\u001b[0;32m      5\u001b[0m weighted_average_individual_risk \u001b[38;5;241m=\u001b[39m np\u001b[38;5;241m.\u001b[39mdot(opt_weights, individual_risks)\n",
      "\u001b[1;31mNameError\u001b[0m: name 'np' is not defined"
     ]
    }
   ],
   "source": [
    "# Individual risks (standard deviation) of each stock\n",
    "individual_risks = np.sqrt(np.diag(cov_matrix))\n",
    "\n",
    "# Weighted average of individual risks\n",
    "weighted_average_individual_risk = np.dot(opt_weights, individual_risks)\n",
    "\n",
    "# Diversification measure (the lower, the better)\n",
    "diver = risk / weighted_average_individual_risk\n",
    "diver"
   ]
  },
  {
   "cell_type": "code",
   "execution_count": null,
   "id": "b294a351",
   "metadata": {},
   "outputs": [],
   "source": []
  }
 ],
 "metadata": {
  "kernelspec": {
   "display_name": "Python 3 (ipykernel)",
   "language": "python",
   "name": "python3"
  },
  "language_info": {
   "codemirror_mode": {
    "name": "ipython",
    "version": 3
   },
   "file_extension": ".py",
   "mimetype": "text/x-python",
   "name": "python",
   "nbconvert_exporter": "python",
   "pygments_lexer": "ipython3",
   "version": "3.11.5"
  }
 },
 "nbformat": 4,
 "nbformat_minor": 5
}
